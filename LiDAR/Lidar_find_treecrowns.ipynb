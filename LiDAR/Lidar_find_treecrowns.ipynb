{
 "cells": [
  {
   "cell_type": "markdown",
   "metadata": {},
   "source": [
    "# Finding trees in LiDAR data\n",
    "This is a simple example of what the PyCrown package can do: from pre-calculated rasters (CHM, DSM and DTM) and a height-normalized 3D LiDAR point cloud, individual trees can be segmented.\n",
    "Outputs are shapefiles of tree top locations, crown shapes as well as a .LAS-file containing classified trees."
   ]
  },
  {
   "cell_type": "markdown",
   "metadata": {},
   "source": [
    "Installation Instructions for PyCrown\n",
    "See: https://github.com/manaakiwhenua/pycrown\n"
   ]
  },
  {
   "cell_type": "markdown",
   "metadata": {},
   "source": [
    "## Start with importing the modules"
   ]
  },
  {
   "cell_type": "code",
   "execution_count": null,
   "metadata": {},
   "outputs": [],
   "source": [
    "import sys\n",
    "from datetime import datetime\n",
    "from pycrown import PyCrown\n",
    "\n",
    "\n",
    "import rasterio as rio\n"
   ]
  },
  {
   "cell_type": "markdown",
   "metadata": {},
   "source": [
    "## Set input files\n",
    "Specify the file locations for the CHM, DSM, DTM and the LiDAR point cloud.\n",
    "The latter is only needed if the point cloud should be classified into individual trees."
   ]
  },
  {
   "cell_type": "code",
   "execution_count": 39,
   "metadata": {},
   "outputs": [],
   "source": [
    "#Tell Python where the DTM and DSM Files that you processed from the point cloud are\n",
    "\n",
    "F_DTM = 'data/DEM.tif'\n",
    "F_DSM = 'data/DSM.tif'\n",
    "\n",
    "#Open these Files Using rasterio\n",
    "\n",
    "DTM_src = rio.open(F_DTM)\n",
    "DSM_src = rio.open(F_DSM)\n",
    "\n",
    "#read the rasters into an array\n",
    "\n",
    "DTM_arr = DTM_src.read()\n",
    "DSM_arr = DSM_src.read()"
   ]
  },
  {
   "cell_type": "markdown",
   "metadata": {},
   "source": [
    "# print out the shape of the array"
   ]
  },
  {
   "cell_type": "code",
   "execution_count": 40,
   "metadata": {},
   "outputs": [
    {
     "name": "stdout",
     "output_type": "stream",
     "text": [
      "(1, 569, 1050)\n",
      "(1, 569, 1050)\n"
     ]
    }
   ],
   "source": [
    "print(DTM_arr.shape)\n",
    "print(DSM_arr.shape)\n",
    "\n",
    "#subtract the DTM from the DSM to get the Canopy Height Model\n",
    "\n",
    "CHM_arr = DSM_arr -DTM_arr"
   ]
  },
  {
   "cell_type": "markdown",
   "metadata": {},
   "source": []
  },
  {
   "cell_type": "code",
   "execution_count": 41,
   "metadata": {},
   "outputs": [
    {
     "name": "stdout",
     "output_type": "stream",
     "text": [
      "(1, 569, 1050)\n"
     ]
    }
   ],
   "source": [
    "# Check that the shape is the same\n",
    "\n",
    "print(CHM_arr.shape)"
   ]
  },
  {
   "cell_type": "code",
   "execution_count": 42,
   "metadata": {},
   "outputs": [],
   "source": [
    "# write the CHM model back to a raster object and save it\n",
    "\n",
    "prof = DTM_src.profile\n",
    "\n",
    "F_CHM = 'data/CHM.tif'\n",
    "\n",
    "with rio.open(F_CHM, 'w', **prof) as dst:\n",
    "        dst.write( (CHM_arr))\n",
    "\n",
    "\n",
    "\n",
    "\n",
    "F_LAS = 'data/POINTS.las'"
   ]
  },
  {
   "cell_type": "markdown",
   "metadata": {},
   "source": [
    "## Initialize an instance of PyCrown"
   ]
  },
  {
   "cell_type": "code",
   "execution_count": 43,
   "metadata": {},
   "outputs": [],
   "source": [
    "PC = PyCrown(F_CHM, F_DTM, F_DSM, F_LAS, outpath='result')"
   ]
  },
  {
   "cell_type": "markdown",
   "metadata": {},
   "source": [
    "## Clip all input data to new bounding box."
   ]
  },
  {
   "cell_type": "code",
   "execution_count": 44,
   "metadata": {},
   "outputs": [],
   "source": [
    "PC.clip_data_to_bbox((1785665, 1786715, 5477854, 5478423))"
   ]
  },
  {
   "cell_type": "markdown",
   "metadata": {},
   "source": [
    "## Smooth CHM\n",
    "A 5x5m block median filter is used (set circular=True to enable a disc-shaped window)."
   ]
  },
  {
   "cell_type": "code",
   "execution_count": 6,
   "metadata": {},
   "outputs": [],
   "source": [
    "PC.filter_chm(5, ws_in_pixels=True, circular=False)"
   ]
  },
  {
   "cell_type": "markdown",
   "metadata": {},
   "source": [
    "## Tree Detection with local maximum filter"
   ]
  },
  {
   "cell_type": "code",
   "execution_count": 7,
   "metadata": {},
   "outputs": [],
   "source": [
    "PC.tree_detection(PC.chm, ws=5, hmin=16.)"
   ]
  },
  {
   "cell_type": "markdown",
   "metadata": {},
   "source": [
    "## Clip trees to bounding box \n",
    "(no trees on image edge)\n",
    "original extent: 1802140, 1802418, 5467295, 5467490    "
   ]
  },
  {
   "cell_type": "code",
   "execution_count": 8,
   "metadata": {},
   "outputs": [],
   "source": [
    "PC.clip_trees_to_bbox(bbox=(1785665, 1786715, 5477854, 5478423))"
   ]
  },
  {
   "cell_type": "markdown",
   "metadata": {},
   "source": [
    "## Crown Delineation"
   ]
  },
  {
   "cell_type": "code",
   "execution_count": 9,
   "metadata": {},
   "outputs": [
    {
     "name": "stdout",
     "output_type": "stream",
     "text": [
      "Tree crowns delineation: 0.002s\n"
     ]
    }
   ],
   "source": [
    "PC.crown_delineation(algorithm='dalponteCIRC_numba', th_tree=15.,\n",
    "                     th_seed=0.7, th_crown=0.55, max_crown=10.)"
   ]
  },
  {
   "cell_type": "markdown",
   "metadata": {},
   "source": [
    "## (Optional) Correct tree tops on steep terrain"
   ]
  },
  {
   "cell_type": "code",
   "execution_count": 10,
   "metadata": {},
   "outputs": [
    {
     "name": "stdout",
     "output_type": "stream",
     "text": [
      "Number of trees: 499\n",
      "Tree tops corrected: 47\n",
      "Tree tops corrected: 9.418837675350701%\n",
      "DSM correction: 22\n",
      "COM correction: 25\n"
     ]
    },
    {
     "data": {
      "text/plain": [
       "(22, 25)"
      ]
     },
     "execution_count": 10,
     "metadata": {},
     "output_type": "execute_result"
    }
   ],
   "source": [
    "PC.correct_tree_tops()"
   ]
  },
  {
   "cell_type": "markdown",
   "metadata": {},
   "source": [
    "## Calculate tree height and elevation"
   ]
  },
  {
   "cell_type": "code",
   "execution_count": 11,
   "metadata": {},
   "outputs": [],
   "source": [
    "PC.get_tree_height_elevation(loc='top')\n",
    "PC.get_tree_height_elevation(loc='top_cor')"
   ]
  },
  {
   "cell_type": "markdown",
   "metadata": {},
   "source": [
    "## Screen small trees"
   ]
  },
  {
   "cell_type": "code",
   "execution_count": 12,
   "metadata": {},
   "outputs": [],
   "source": [
    "PC.screen_small_trees(hmin=20., loc='top')"
   ]
  },
  {
   "cell_type": "markdown",
   "metadata": {},
   "source": [
    "## Convert raster crowns to polygons"
   ]
  },
  {
   "cell_type": "code",
   "execution_count": 13,
   "metadata": {},
   "outputs": [],
   "source": [
    "PC.crowns_to_polys_raster()"
   ]
  },
  {
   "cell_type": "markdown",
   "metadata": {},
   "source": [
    "This command below produces an error but we can ignore it for this tutorial"
   ]
  },
  {
   "cell_type": "code",
   "execution_count": null,
   "metadata": {},
   "outputs": [],
   "source": [
    "PC.crowns_to_polys_smooth(store_las=True)"
   ]
  },
  {
   "cell_type": "markdown",
   "metadata": {},
   "source": [
    "## Check that all geometries are valid"
   ]
  },
  {
   "cell_type": "code",
   "execution_count": 15,
   "metadata": {},
   "outputs": [],
   "source": [
    "PC.quality_control()"
   ]
  },
  {
   "cell_type": "markdown",
   "metadata": {},
   "source": [
    "## Print out number of trees"
   ]
  },
  {
   "cell_type": "code",
   "execution_count": 16,
   "metadata": {},
   "outputs": [
    {
     "name": "stdout",
     "output_type": "stream",
     "text": [
      "Number of trees detected: 417\n"
     ]
    }
   ],
   "source": [
    "print(f\"Number of trees detected: {len(PC.trees)}\")"
   ]
  },
  {
   "cell_type": "markdown",
   "metadata": {},
   "source": [
    "## Export results"
   ]
  },
  {
   "cell_type": "code",
   "execution_count": 17,
   "metadata": {},
   "outputs": [],
   "source": [
    "PC.export_raster(PC.chm, PC.outpath / 'chm.tif', 'CHM')"
   ]
  },
  {
   "cell_type": "code",
   "execution_count": 18,
   "metadata": {},
   "outputs": [],
   "source": [
    "PC.export_tree_locations(loc='top')"
   ]
  },
  {
   "cell_type": "code",
   "execution_count": 19,
   "metadata": {},
   "outputs": [],
   "source": [
    "PC.export_tree_locations(loc='top_cor')"
   ]
  },
  {
   "cell_type": "code",
   "execution_count": 20,
   "metadata": {},
   "outputs": [],
   "source": [
    "PC.export_tree_crowns(crowntype='crown_poly_raster')"
   ]
  },
  {
   "cell_type": "markdown",
   "metadata": {},
   "source": [
    "This cell produces an error too but we can ignore it"
   ]
  },
  {
   "cell_type": "code",
   "execution_count": null,
   "metadata": {},
   "outputs": [],
   "source": [
    "PC.export_tree_crowns(crowntype='crown_poly_smooth')"
   ]
  },
  {
   "cell_type": "markdown",
   "metadata": {},
   "source": [
    "Now go to your c:\\path to folder\\pycrown-master\\results folder to find the output\n"
   ]
  },
  {
   "cell_type": "code",
   "execution_count": null,
   "metadata": {},
   "outputs": [],
   "source": []
  },
  {
   "cell_type": "code",
   "execution_count": 46,
   "metadata": {},
   "outputs": [
    {
     "name": "stdout",
     "output_type": "stream",
     "text": [
      "{'driver': 'GTiff', 'dtype': 'float32', 'nodata': -32767.0, 'width': 1050, 'height': 680, 'count': 1, 'crs': CRS.from_wkt('PROJCS[\"unnamed\",GEOGCS[\"D_NZGD_2000\",DATUM[\"unnamed\",SPHEROID[\"unnamed\",6378137,298.257222101004]],PRIMEM[\"Greenwich\",0],UNIT[\"degree\",0.0174532925199433,AUTHORITY[\"EPSG\",\"9122\"]]],PROJECTION[\"Transverse_Mercator\"],PARAMETER[\"latitude_of_origin\",0],PARAMETER[\"central_meridian\",173],PARAMETER[\"scale_factor\",0.9996],PARAMETER[\"false_easting\",1600000],PARAMETER[\"false_northing\",10000000],UNIT[\"metre\",1,AUTHORITY[\"EPSG\",\"9001\"]],AXIS[\"Easting\",EAST],AXIS[\"Northing\",NORTH]]'), 'transform': Affine(1.0, 0.0, 1785665.3468,\n",
      "       0.0, -1.0, 5478423.7127), 'tiled': False, 'interleave': 'band'}\n",
      "{'driver': 'GTiff', 'dtype': 'float32', 'nodata': -32767.0, 'width': 1050, 'height': 680, 'count': 1, 'crs': CRS.from_wkt('PROJCS[\"unnamed\",GEOGCS[\"D_NZGD_2000\",DATUM[\"unnamed\",SPHEROID[\"unnamed\",6378137,298.257222101004]],PRIMEM[\"Greenwich\",0],UNIT[\"degree\",0.0174532925199433,AUTHORITY[\"EPSG\",\"9122\"]]],PROJECTION[\"Transverse_Mercator\"],PARAMETER[\"latitude_of_origin\",0],PARAMETER[\"central_meridian\",173],PARAMETER[\"scale_factor\",0.9996],PARAMETER[\"false_easting\",1600000],PARAMETER[\"false_northing\",10000000],UNIT[\"metre\",1,AUTHORITY[\"EPSG\",\"9001\"]],AXIS[\"Easting\",EAST],AXIS[\"Northing\",NORTH]]'), 'transform': Affine(1.0, 0.0, 1785665.3468,\n",
      "       0.0, -1.0, 5478423.7127), 'tiled': False, 'interleave': 'band'}\n",
      "{'driver': 'GTiff', 'dtype': 'float32', 'nodata': -32767.0, 'width': 1050, 'height': 680, 'count': 1, 'crs': CRS.from_wkt('PROJCS[\"unnamed\",GEOGCS[\"D_NZGD_2000\",DATUM[\"unnamed\",SPHEROID[\"unnamed\",6378137,298.257222101004]],PRIMEM[\"Greenwich\",0],UNIT[\"degree\",0.0174532925199433,AUTHORITY[\"EPSG\",\"9122\"]]],PROJECTION[\"Transverse_Mercator\"],PARAMETER[\"latitude_of_origin\",0],PARAMETER[\"central_meridian\",173],PARAMETER[\"scale_factor\",0.9996],PARAMETER[\"false_easting\",1600000],PARAMETER[\"false_northing\",10000000],UNIT[\"metre\",1,AUTHORITY[\"EPSG\",\"9001\"]],AXIS[\"Easting\",EAST],AXIS[\"Northing\",NORTH]]'), 'transform': Affine(1.0, 0.0, 1785665.3468,\n",
      "       0.0, -1.0, 5478423.7127), 'tiled': False, 'interleave': 'band'}\n",
      "(1, 680, 1050)\n",
      "(1, 680, 1050)\n",
      "(1, 680, 1050)\n",
      "(1, 680, 1050)\n"
     ]
    }
   ],
   "source": [
    "F_DEM_LID_RES = 'data/DEM_LID_RES.tif'\n",
    "F_DSM_LID_RES = 'data/DSM_LID_RES.tif'\n",
    "F_DSM_RPAS_RES = 'data/DSM_RPAS_RES.tif'\n",
    "\n",
    "DEM_LID_RES_src = rio.open(F_DEM_LID_RES)\n",
    "DSM_LID_RES_src = rio.open(F_DSM_LID_RES)\n",
    "DSM_RPAS_RES_src = rio.open(F_DSM_RPAS_RES)\n",
    "\n",
    "DEM_LID_RES_arr = DEM_LID_RES_src.read()\n",
    "DSM_LID_RES_arr = DSM_LID_RES_src.read()\n",
    "DSM_RPAS_RES_arr = DSM_RPAS_RES_src.read()\n",
    "\n",
    "print(DEM_LID_RES_src.profile)\n",
    "print(DSM_LID_RES_src.profile)\n",
    "print(DSM_RPAS_RES_src.profile)\n",
    "\n",
    "\n",
    "print(DEM_LID_RES_arr.shape)\n",
    "print(DSM_LID_RES_arr.shape)\n",
    "print(DSM_RPAS_RES_arr.shape)\n",
    "\n",
    "#Correct the RPAS DEM for vertical offset of 12.4 m\n",
    "OFFSET = 12.4\n",
    "DSM_RPAS_RES_arr = DSM_RPAS_RES_arr - OFFSET\n",
    "\n",
    "# USE THE LIDAR DEM LAYER TO CREATE a RPAS CHM\n",
    "CHM_RPAS_RES_arr = DSM_RPAS_RES_arr - DEM_LID_RES_arr\n",
    "\n",
    "print(CHM_RPAS_RES_arr.shape)\n",
    "\n",
    "\n",
    "# write the  RPAS CHM model back to a raster object and save it\n",
    "\n",
    "prof = DEM_LID_RES_src.profile\n",
    "\n",
    "F_CHM_LID_RES = 'data/CHM_RPAS_RES.tif'\n",
    "\n",
    "with rio.open(F_CHM_LID_RES, 'w', **prof) as dst:\n",
    "        dst.write( (CHM_RPAS_RES_arr))\n",
    "\n",
    "        \n",
    "        "
   ]
  },
  {
   "cell_type": "markdown",
   "metadata": {},
   "source": [
    "Special thanks to Andrew McMillan for perparing the lab session "
   ]
  }
 ],
 "metadata": {
  "kernelspec": {
   "display_name": "Python 3",
   "language": "python",
   "name": "python3"
  },
  "language_info": {
   "codemirror_mode": {
    "name": "ipython",
    "version": 3
   },
   "file_extension": ".py",
   "mimetype": "text/x-python",
   "name": "python",
   "nbconvert_exporter": "python",
   "pygments_lexer": "ipython3",
   "version": "3.7.6"
  }
 },
 "nbformat": 4,
 "nbformat_minor": 2
}
